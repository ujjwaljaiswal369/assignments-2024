{
 "cells": [
  {
   "cell_type": "markdown",
   "id": "2d18967b-e288-48ba-bebf-184b5d52e479",
   "metadata": {},
   "source": [
    "Q1. What is a database? Differentiate between SQL and NoSQL databases."
   ]
  },
  {
   "cell_type": "code",
   "execution_count": null,
   "id": "29098615-afd2-4e98-be2a-788c8bd6825b",
   "metadata": {},
   "outputs": [],
   "source": [
    "\"\"\"\n",
    "A database is an organized collection of structured data that is stored and accessed electronically. \n",
    "It is designed to efficiently manage, store, and retrieve large amounts of information. \n",
    "Databases provide a way to store data in a structured manner, allowing for easy manipulation \n",
    "and retrieval of specific data elements.\n",
    "\n",
    "\n",
    "SQL :- SQL databases are based on a relational data model and use SQL as the standard language for \n",
    "       defining, manipulating, and querying data. They have predefined schemas that enforce a specific \n",
    "       structure for the data, with tables, rows, and columns.They are suitable for applications \n",
    "       that require structured and well-defined data, such as financial systems, e-commerce platforms, \n",
    "       and traditional enterprise applications.\n",
    "\n",
    "NoSQL :- NoSQL databases are designed to handle large-scale, unstructured, and rapidly changing data. \n",
    "         They provide flexible schemas that allow for the storage of various data types, such as \n",
    "         key-value pairs, documents, graphs, or wide-column stores. NoSQL databases prioritize \n",
    "         scalability, high performance, and availability over strong consistency. They are commonly used \n",
    "         in modern web applications, big data analytics, content management systems, and real-time data \n",
    "         processing scenarios.\n",
    "\"\"\""
   ]
  },
  {
   "cell_type": "markdown",
   "id": "3b6c6178-cfcb-442c-bbda-fe96ac3f1361",
   "metadata": {},
   "source": [
    "Q2. What is DDL? Explain why CREATE, DROP, ALTER, and TRUNCATE are used with an example."
   ]
  },
  {
   "cell_type": "code",
   "execution_count": null,
   "id": "7264dbb8-d6c3-4322-8564-f2a49e2fde26",
   "metadata": {},
   "outputs": [],
   "source": [
    "\"\"\"\n",
    "DDL stands for Data Definition Language. It is a subset of SQL (Structured Query Language) that is used \n",
    "to define and manage the structure of a database. DDL statements are responsible for creating, \n",
    "altering, and deleting database objects such as tables, indexes, views, and schemas.\n",
    "\"\"\"\n",
    "\n",
    "# CREATE :- The CREATE statement is used to create new database objects.\n",
    "\n",
    "CREATE TABLE Employees (\n",
    "  EmployeeID INT PRIMARY KEY,\n",
    "  FirstName VARCHAR(50),\n",
    "  LastName VARCHAR(50),\n",
    "  Age INT\n",
    ");\n",
    "\n",
    "# DROP :- The DROP statement is used to delete an existing database object.\n",
    "\n",
    "DROP TABLE Employees;\n",
    "\n",
    "# ALTER :-  The ALTER statement is used to modify the structure of an existing database object.\n",
    "\n",
    "ALTER TABLE Employees\n",
    "ADD Salary DECIMAL(10,2);\n",
    "\n",
    "# TRUNCATE :- The TRUNCATE statement is used to delete all the data from a table while keeping its structure intact.\n",
    "\n",
    "TRUNCATE TABLE Employees;"
   ]
  },
  {
   "cell_type": "markdown",
   "id": "af4a20c3-3c9a-4d8b-bad9-647a69eba917",
   "metadata": {},
   "source": [
    "Q3. What is DML? Explain INSERT, UPDATE, and DELETE with an example."
   ]
  },
  {
   "cell_type": "code",
   "execution_count": null,
   "id": "216fd664-25be-45dd-861f-fdd438e48cc7",
   "metadata": {},
   "outputs": [],
   "source": [
    "\"\"\"\n",
    "DML stands for Data Manipulation Language. It is a subset of SQL (Structured Query Language) used to \n",
    "manipulate and modify the data within a database. DML statements are responsible for inserting, updating, \n",
    "and deleting data in database tables.\n",
    "\"\"\"\n",
    "\n",
    "# INSERT :- The INSERT statement is used to add new rows of data into a table.\n",
    "\n",
    "INSERT INTO Employees (EmployeeID, FirstName, LastName, Age)\n",
    "VALUES (1, 'John', 'Doe', 30);\n",
    "\n",
    "# UPDATE :- The UPDATE statement is used to modify existing data in a table.\n",
    "\n",
    "UPDATE Employees\n",
    "SET Age = 31\n",
    "WHERE EmployeeID = 1;\n",
    "\n",
    "# DELETE :- The DELETE statement is used to remove one or more rows from a table based on a specified condition.\n",
    "\n",
    "DELETE FROM Employees\n",
    "WHERE EmployeeID = 1;"
   ]
  },
  {
   "cell_type": "markdown",
   "id": "dc04aab7-9c8f-47d8-b71b-be87fb0045ff",
   "metadata": {},
   "source": [
    "Q4. What is DQL? Explain SELECT with an example."
   ]
  },
  {
   "cell_type": "code",
   "execution_count": null,
   "id": "71878d12-5ab2-49a7-92a7-f9bda453cd7f",
   "metadata": {},
   "outputs": [],
   "source": [
    "\"\"\"\n",
    "DQL stands for Data Query Language. It is a subset of SQL (Structured Query Language) that is used to \n",
    "retrieve data from a database. DQL statements are focused on querying and retrieving information from \n",
    "database tables without modifying the data.\n",
    "\"\"\"\n",
    "\n",
    "# SELECT :- SELECT allows you to retrieve specific columns or entire rows from one or more tables based on specified criteria.\n",
    "\n",
    "SELECT * FROM Employees;"
   ]
  },
  {
   "cell_type": "markdown",
   "id": "27feff01-df03-423d-8712-4e496d28ecb5",
   "metadata": {},
   "source": [
    "Q5. Explain Primary Key and Foreign Key."
   ]
  },
  {
   "cell_type": "code",
   "execution_count": null,
   "id": "4a303afb-c499-4bb4-bea1-fd72c379936c",
   "metadata": {},
   "outputs": [],
   "source": [
    "\"\"\"\n",
    "Primary Key:\n",
    "In a database table, a primary key is a column or a combination of columns that uniquely identifies each row. \n",
    "It serves as a unique identifier for the records in the table, ensuring that no two rows have the same key value. \n",
    "The primary key provides a way to identify and access individual rows efficiently. It enforces data integrity \n",
    "and serves as a basis for establishing relationships with other tables in the database.\n",
    "\n",
    "Foreign Key:\n",
    "A foreign key is a column or a combination of columns in a table that establishes a link or relationship with \n",
    "the primary key of another table. It defines a dependency between two tables, where the values in the foreign \n",
    "key column(s) of one table correspond to the values in the primary key column(s) of another table. This \n",
    "relationship allows for data consistency and integrity across related tables. The foreign key constraint ensures\n",
    "that the referenced values exist in the primary key column of the associated table, enforcing referential integrity\n",
    "and maintaining the relational structure of the database.\n",
    "\"\"\""
   ]
  },
  {
   "cell_type": "markdown",
   "id": "c7617a95-209a-4bf0-bcf5-17fb872425e5",
   "metadata": {},
   "source": [
    "Q6. Write a python code to connect MySQL to python. Explain the cursor() and execute() method."
   ]
  },
  {
   "cell_type": "code",
   "execution_count": null,
   "id": "fdad0671-b47a-4386-9fca-1bf0fc4fb633",
   "metadata": {},
   "outputs": [],
   "source": [
    "import mysql.connector\n",
    "\n",
    "# Connect to MySQL\n",
    "mydb = mysql.connector.connect(\n",
    "  host=\"localhost\",\n",
    "  user=\"your_username\",\n",
    "  password=\"your_password\",\n",
    "  database=\"your_database\"\n",
    ")\n",
    "\n",
    "# Create a cursor object\n",
    "cursor = mydb.cursor()\n",
    "\n",
    "# Execute a SQL query\n",
    "cursor.execute(\"SELECT * FROM your_table\")\n",
    "\n",
    "# Fetch all rows from the result\n",
    "rows = cursor.fetchall()\n",
    "\n",
    "# Iterate through the rows and print the data\n",
    "for row in rows:\n",
    "    print(row)\n",
    "\n",
    "# Close the cursor and connection\n",
    "cursor.close()\n",
    "mydb.close()\n"
   ]
  },
  {
   "cell_type": "markdown",
   "id": "34aba077-d829-4fa7-a401-ffc166e76d86",
   "metadata": {},
   "source": []
  }
 ],
 "metadata": {
  "kernelspec": {
   "display_name": "Python 3 (ipykernel)",
   "language": "python",
   "name": "python3"
  },
  "language_info": {
   "codemirror_mode": {
    "name": "ipython",
    "version": 3
   },
   "file_extension": ".py",
   "mimetype": "text/x-python",
   "name": "python",
   "nbconvert_exporter": "python",
   "pygments_lexer": "ipython3",
   "version": "3.10.8"
  }
 },
 "nbformat": 4,
 "nbformat_minor": 5
}
