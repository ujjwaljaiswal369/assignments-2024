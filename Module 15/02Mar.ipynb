{
 "cells": [
  {
   "cell_type": "markdown",
   "id": "32bf6ea9",
   "metadata": {},
   "source": [
    "### Q1: What is Matplotlib? Why is it used? Name five plots that can be plotted using the Pyplot module of Matplotlib."
   ]
  },
  {
   "cell_type": "markdown",
   "id": "8e44b4a3",
   "metadata": {},
   "source": [
    "Matplotlib is a data visualization library in Python that provides a variety of tools for creating static, animated, and interactive visualizations in Python. It is one of the most widely used data visualization libraries in Python due to its flexibility and ease of use.\n",
    "\n",
    "Matplotlib can be used for various tasks such as data analysis, statistical analysis, and machine learning. It is used to create plots, charts, histograms, and other visualizations to explore and communicate data. Matplotlib provides a wide range of customization options that allow users to create high-quality visualizations that are tailored to their specific needs.\n",
    "\n",
    "The Pyplot module of Matplotlib is a collection of functions that allow users to create various types of plots, including:\n",
    "\n",
    "Line plot: A line plot is a graph that displays data points connected by straight lines. It is used to visualize the trend or relationship between two variables over time.\n",
    "\n",
    "Scatter plot: A scatter plot is a graph that displays individual data points as dots. It is used to visualize the relationship between two variables and to identify patterns or outliers in the data.\n",
    "\n",
    "Bar plot: A bar plot is a graph that displays data using rectangular bars. It is used to compare the values of different categories or to show the distribution of a single variable.\n",
    "\n",
    "Histogram: A histogram is a graph that displays the distribution of a single variable. It is used to show the frequency or count of values in a specific range or bin.\n",
    "\n",
    "Pie chart: A pie chart is a graph that displays the proportion of each category in a dataset. It is used to show the relative sizes of different categories and to compare them to each other."
   ]
  },
  {
   "cell_type": "markdown",
   "id": "50e45e72",
   "metadata": {},
   "source": [
    "### Q2: What is a scatter plot? Use the following code to generate data for x and y. Using this generated data plot a scatter plot."
   ]
  },
  {
   "cell_type": "markdown",
   "id": "02217e20",
   "metadata": {},
   "source": [
    "A scatter plot is a type of graph that displays the relationship between two numerical variables. It consists of a set of data points that are represented as individual dots on a two-dimensional coordinate system.\n",
    "\n",
    "In a scatter plot, one variable is plotted on the x-axis and the other variable is plotted on the y-axis. Each data point on the plot represents the value of both variables for a single observation in the dataset."
   ]
  },
  {
   "cell_type": "code",
   "execution_count": 3,
   "id": "cbb0adbb",
   "metadata": {},
   "outputs": [],
   "source": [
    "import numpy as np\n",
    "np.random.seed(3)\n",
    "x = 3 + np.random.normal(0, 2, 50)\n",
    "y = 3 + np.random.normal(0, 2, len(x))\n",
    "# Note: Also add title, xlabel, and ylabel to the plot."
   ]
  },
  {
   "cell_type": "code",
   "execution_count": 5,
   "id": "4f531c0b",
   "metadata": {},
   "outputs": [
    {
     "data": {
      "text/plain": [
       "Text(0, 0.5, 'Y axis')"
      ]
     },
     "execution_count": 5,
     "metadata": {},
     "output_type": "execute_result"
    },
    {
     "data": {
      "image/png": "[encoded data removed]",
      "text/plain": [
       "<Figure size 432x288 with 1 Axes>"
      ]
     },
     "metadata": {
      "needs_background": "light"
     },
     "output_type": "display_data"
    }
   ],
   "source": [
    "import matplotlib.pyplot as plt\n",
    "plt.scatter(x,y)\n",
    "plt.title('Scatter Plot')\n",
    "plt.xlabel('X axis')\n",
    "plt.ylabel('Y axis')"
   ]
  },
  {
   "cell_type": "markdown",
   "id": "aea6e0e9",
   "metadata": {},
   "source": [
    "### Q3: Why is the subplot() function used? Draw four line plots using the subplot() function.\n",
    "### Use the following data:"
   ]
  },
  {
   "cell_type": "code",
   "execution_count": null,
   "id": "b756b516",
   "metadata": {},
   "outputs": [],
   "source": [
    "# import numpy as np\n",
    "# For line 1: x = np.array([0, 1, 2, 3, 4, 5]) and y = np.array([0, 100, 200, 300, 400, 500])\n",
    "# For line 2: x = np.array([0, 1, 2, 3, 4, 5]) and y = np.array([50, 20, 40, 20, 60, 70])\n",
    "# For line 3: x = np.array([0, 1, 2, 3, 4, 5]) and y = np.array([10, 20, 30, 40, 50, 60])\n",
    "# For line 4: x = np.array([0, 1, 2, 3, 4, 5]) and y = np.array([200, 350, 250, 550, 450, 150])"
   ]
  },
  {
   "cell_type": "code",
   "execution_count": 19,
   "id": "37573ce1",
   "metadata": {},
   "outputs": [
    {
     "data": {
      "image/png": "[encoded data removed]",
      "text/plain": [
       "<Figure size 432x288 with 4 Axes>"
      ]
     },
     "metadata": {
      "needs_background": "light"
     },
     "output_type": "display_data"
    }
   ],
   "source": [
    "import matplotlib.pyplot as plt\n",
    "import numpy as np\n",
    "\n",
    "# Define the x and y data for each line\n",
    "x1 = np.array([0, 1, 2, 3, 4, 5])\n",
    "y1 = np.array([0, 100, 200, 300, 400, 500])\n",
    "\n",
    "x2 = np.array([0, 1, 2, 3, 4, 5])\n",
    "y2 = np.array([50, 20, 40, 20, 60, 70])\n",
    "\n",
    "x3 = np.array([0, 1, 2, 3, 4, 5])\n",
    "y3 = np.array([10, 20, 30, 40, 50, 60])\n",
    "\n",
    "x4 = np.array([0, 1, 2, 3, 4, 5])\n",
    "y4 = np.array([200, 350, 250, 550, 450, 150])\n",
    "\n",
    "# Create a figure with four subplots arranged in a 2x2 grid\n",
    "fig, axs = plt.subplots(2, 2)\n",
    "\n",
    "# Plot the data in the first subplot\n",
    "axs[0, 0].plot(x1, y1)\n",
    "axs[0, 0].set_title('Line plot 1')\n",
    "\n",
    "# Plot the data in the second subplot\n",
    "axs[0, 1].plot(x2, y2, color='red')\n",
    "axs[0, 1].set_title('Line plot 2')\n",
    "\n",
    "# Plot the data in the third subplot\n",
    "axs[1, 0].plot(x3, y3, linestyle='--', linewidth=2)\n",
    "axs[1, 0].set_title('Line plot 3')\n",
    "\n",
    "# Plot the data in the fourth subplot\n",
    "axs[1, 1].plot(x4, y4, marker='s', markersize=5, color='green', linestyle=':')\n",
    "axs[1, 1].set_title('Line plot 4')\n",
    "\n",
    "# Add a title to the entire figure\n",
    "fig.suptitle('Four line plots')\n",
    "\n",
    "# Adjust the spacing between subplots\n",
    "fig.tight_layout()\n",
    "\n",
    "# Display the figure\n",
    "plt.show()\n"
   ]
  },
  {
   "cell_type": "markdown",
   "id": "e67130d5",
   "metadata": {},
   "source": [
    "### Q4: What is a bar plot? Why is it used? Using the following data plot a bar plot and a horizontal bar plot."
   ]
  },
  {
   "cell_type": "markdown",
   "id": "76f98f44",
   "metadata": {},
   "source": [
    "A bar plot is a type of plot that represents categorical data with rectangular bars. The height or length of each bar represents the frequency, count, or proportion of data in a particular category. Bar plots are commonly used to display and compare the values of different categories.\n",
    "\n",
    "Bar plots are used to:\n",
    "\n",
    "* Compare the values of different categories or groups\n",
    "* Show the distribution or frequency of categorical data\n",
    "* Highlight the most significant categories or groups\n",
    "* Visualize changes or trends in categorical data over time or across different conditions"
   ]
  },
  {
   "cell_type": "code",
   "execution_count": 20,
   "id": "69876bdb",
   "metadata": {},
   "outputs": [],
   "source": [
    "import numpy as np\n",
    "company = np.array([\"Apple\", \"Microsoft\", \"Google\", \"AMD\"])\n",
    "profit = np.array([3000, 8000, 1000, 10000])"
   ]
  },
  {
   "cell_type": "code",
   "execution_count": 22,
   "id": "8bacc4e6",
   "metadata": {},
   "outputs": [
    {
     "data": {
      "text/plain": [
       "<BarContainer object of 4 artists>"
      ]
     },
     "execution_count": 22,
     "metadata": {},
     "output_type": "execute_result"
    },
    {
     "data": {
      "image/png": "[encoded data removed]",
      "text/plain": [
       "<Figure size 432x288 with 1 Axes>"
      ]
     },
     "metadata": {
      "needs_background": "light"
     },
     "output_type": "display_data"
    }
   ],
   "source": [
    "# vertical bar chart\n",
    "plt.bar(company, profit)"
   ]
  },
  {
   "cell_type": "code",
   "execution_count": 21,
   "id": "c6a08422",
   "metadata": {},
   "outputs": [
    {
     "data": {
      "text/plain": [
       "<BarContainer object of 4 artists>"
      ]
     },
     "execution_count": 21,
     "metadata": {},
     "output_type": "execute_result"
    },
    {
     "data": {
      "image/png": "[encoded data removed]",
      "text/plain": [
       "<Figure size 432x288 with 1 Axes>"
      ]
     },
     "metadata": {
      "needs_background": "light"
     },
     "output_type": "display_data"
    }
   ],
   "source": [
    "plt.barh(company, profit)"
   ]
  },
  {
   "cell_type": "markdown",
   "id": "bd7b4628",
   "metadata": {},
   "source": [
    "### Q5: What is a box plot? Why is it used? Using the following data plot a box plot."
   ]
  },
  {
   "cell_type": "markdown",
   "id": "bda9ed21",
   "metadata": {},
   "source": [
    "A box plot, also known as a box and whisker plot, is a type of plot used to represent the distribution of numerical data through their quartiles. Box plots display the median, quartiles, range, and any outliers in the data.\n",
    "\n",
    "Box plots are commonly used to:\n",
    "\n",
    "* Identify the spread and skewness of the data\n",
    "* Detect outliers in the data\n",
    "* Compare the distributions of two or more groups of data"
   ]
  },
  {
   "cell_type": "code",
   "execution_count": 23,
   "id": "a3da9257",
   "metadata": {},
   "outputs": [],
   "source": [
    "box1 = np.random.normal(100, 10, 200)\n",
    "box2 = np.random.normal(90, 20, 200)"
   ]
  },
  {
   "cell_type": "code",
   "execution_count": 31,
   "id": "77c3a910",
   "metadata": {},
   "outputs": [
    {
     "data": {
      "text/plain": [
       "{'whiskers': [<matplotlib.lines.Line2D at 0x1c6e1506610>,\n",
       "  <matplotlib.lines.Line2D at 0x1c6e15067c0>],\n",
       " 'caps': [<matplotlib.lines.Line2D at 0x1c6e1fd5730>,\n",
       "  <matplotlib.lines.Line2D at 0x1c6e1fd5a00>],\n",
       " 'boxes': [<matplotlib.lines.Line2D at 0x1c6e13bda90>],\n",
       " 'medians': [<matplotlib.lines.Line2D at 0x1c6e1fd0910>],\n",
       " 'fliers': [<matplotlib.lines.Line2D at 0x1c6e1fd0be0>],\n",
       " 'means': []}"
      ]
     },
     "execution_count": 31,
     "metadata": {},
     "output_type": "execute_result"
    },
    {
     "data": {
      "image/png": "[encoded data removed]",
      "text/plain": [
       "<Figure size 720x432 with 2 Axes>"
      ]
     },
     "metadata": {
      "needs_background": "light"
     },
     "output_type": "display_data"
    }
   ],
   "source": [
    "fig, axs = plt.subplots(1, 2,figsize=(10,6))\n",
    "axs[0].boxplot(box1)\n",
    "axs[1].boxplot(box2)"
   ]
  }
 ],
 "metadata": {
  "kernelspec": {
   "display_name": "Python 3 (ipykernel)",
   "language": "python",
   "name": "python3"
  },
  "language_info": {
   "codemirror_mode": {
    "name": "ipython",
    "version": 3
   },
   "file_extension": ".py",
   "mimetype": "text/x-python",
   "name": "python",
   "nbconvert_exporter": "python",
   "pygments_lexer": "ipython3",
   "version": "3.9.12"
  }
 },
 "nbformat": 4,
 "nbformat_minor": 5
}
