{
 "cells": [
  {
   "cell_type": "markdown",
   "id": "8c58d390",
   "metadata": {},
   "source": [
    "### Q1. How can you create a Bokeh plot using Python code?"
   ]
  },
  {
   "cell_type": "code",
   "execution_count": 2,
   "id": "880c9ac4",
   "metadata": {},
   "outputs": [],
   "source": [
    "from bokeh.plotting import figure, output_file, show\n",
    "\n",
    "# Create some sample data\n",
    "x = [1, 2, 3, 4, 5]\n",
    "y = [6, 7, 2, 4, 5]\n",
    "\n",
    "# Create a Bokeh figure object\n",
    "p = figure(title=\"Example Bokeh Plot\", x_axis_label='x', y_axis_label='y')\n",
    "\n",
    "# Add a line glyph to the figure\n",
    "p.line(x, y, legend_label=\"Line\", line_width=2)\n",
    "\n",
    "# Specify the output file\n",
    "output_file(\"bokeh_plot.html\")\n",
    "\n",
    "# Display the plot\n",
    "show(p)"
   ]
  },
  {
   "cell_type": "markdown",
   "id": "a8cab496",
   "metadata": {},
   "source": [
    "### Q2. What are glyphs in Bokeh, and how can you add them to a Bokeh plot? Explain with an example."
   ]
  },
  {
   "cell_type": "markdown",
   "id": "46a536e6",
   "metadata": {},
   "source": [
    "In Bokeh, glyphs are visual representations of data that can be added to a plot. Glyphs can be used to create a wide variety of visualizations, including scatter plots, line charts, bar charts, and more.\n",
    "\n",
    "To add glyphs to a Bokeh plot, you first need to create a ColumnDataSource object, which is a data structure that maps column names to sequences of data. You can then use the glyph functions provided by Bokeh (such as circle(), line(), rect(), and so on) to add glyphs to the plot."
   ]
  },
  {
   "cell_type": "code",
   "execution_count": 5,
   "id": "bd796d26",
   "metadata": {},
   "outputs": [],
   "source": [
    "from bokeh.plotting import figure, output_file, show\n",
    "from bokeh.models import ColumnDataSource\n",
    "\n",
    "# Create some sample data\n",
    "x = [1, 2, 3, 4, 5]\n",
    "y = [60, 7, 2, 4, 5]\n",
    "colors = [\"red\", \"green\", \"blue\", \"orange\", \"purple\"]\n",
    "\n",
    "# Create a ColumnDataSource object\n",
    "source = ColumnDataSource(data=dict(x=x, y=y, colors=colors))\n",
    "\n",
    "# Create a Bokeh figure object\n",
    "p = figure(title=\"Example Bokeh Plot\", x_axis_label='x', y_axis_label='y')\n",
    "\n",
    "# Add circles to the figure using the glyph function\n",
    "p.circle('x', 'y', size=10, color='colors', alpha=0.5, source=source)\n",
    "\n",
    "# Specify the output file\n",
    "output_file(\"bokeh_glyphs.html\")\n",
    "\n",
    "# Display the plot\n",
    "show(p)"
   ]
  },
  {
   "cell_type": "markdown",
   "id": "beee647a",
   "metadata": {},
   "source": [
    "### Q3. How can you customize the appearance of a Bokeh plot, including the axes, title, and legend?"
   ]
  },
  {
   "cell_type": "markdown",
   "id": "60ba0175",
   "metadata": {},
   "source": [
    "Bokeh provides a wide range of options for customizing the appearance of plots, including the axes, title, and legend. Here are some examples of how to customize these elements:\n",
    "\n",
    "* Axes\n",
    "\n",
    "\n",
    "You can customize the appearance of the axes in a Bokeh plot using the axis methods of the figure object. "
   ]
  },
  {
   "cell_type": "code",
   "execution_count": 7,
   "id": "5be82ddd",
   "metadata": {},
   "outputs": [],
   "source": [
    "from bokeh.plotting import figure, output_file, show\n",
    "\n",
    "# Create some sample data\n",
    "x = [1, 2, 3, 4, 5]\n",
    "y = [6, 7, 2, 4, 5]\n",
    "\n",
    "# Create a Bokeh figure object\n",
    "p = figure(title=\"Example Bokeh Plot\", x_axis_label='x', y_axis_label='y')\n",
    "\n",
    "# Customize the x-axis\n",
    "p.xaxis.axis_label_text_color = \"blue\"\n",
    "p.xaxis.axis_label_text_font_size = \"14pt\"\n",
    "p.xaxis.major_label_text_color = \"green\"\n",
    "p.xaxis.major_label_text_font_size = \"12pt\"\n",
    "\n",
    "# Customize the y-axis\n",
    "p.yaxis.axis_label_text_color = \"red\"\n",
    "p.yaxis.axis_label_text_font_size = \"14pt\"\n",
    "p.yaxis.major_label_text_color = \"purple\"\n",
    "p.yaxis.major_label_text_font_size = \"12pt\"\n",
    "\n",
    "# Add a line glyph to the figure\n",
    "p.line(x, y, legend_label=\"Line\", line_width=2)\n",
    "\n",
    "# Specify the output file\n",
    "output_file(\"bokeh_axes.html\")\n",
    "\n",
    "# Display the plot\n",
    "show(p)\n"
   ]
  },
  {
   "cell_type": "markdown",
   "id": "5256979b",
   "metadata": {},
   "source": [
    "* Title\n",
    "\n",
    "\n",
    "You can customize the appearance of the title in a Bokeh plot using the title attribute of the figure object."
   ]
  },
  {
   "cell_type": "code",
   "execution_count": 8,
   "id": "007ad699",
   "metadata": {},
   "outputs": [],
   "source": [
    "from bokeh.plotting import figure, output_file, show\n",
    "\n",
    "# Create some sample data\n",
    "x = [1, 2, 3, 4, 5]\n",
    "y = [6, 7, 2, 4, 5]\n",
    "\n",
    "# Create a Bokeh figure object\n",
    "p = figure(title=\"Example Bokeh Plot\", x_axis_label='x', y_axis_label='y')\n",
    "\n",
    "# Customize the title\n",
    "p.title.text_color = \"blue\"\n",
    "p.title.text_font_size = \"16pt\"\n",
    "\n",
    "# Add a line glyph to the figure\n",
    "p.line(x, y, legend_label=\"Line\", line_width=2)\n",
    "\n",
    "# Specify the output file\n",
    "output_file(\"bokeh_title.html\")\n",
    "\n",
    "# Display the plot\n",
    "show(p)"
   ]
  },
  {
   "cell_type": "markdown",
   "id": "b8d92aa1",
   "metadata": {},
   "source": [
    "* Legend\n",
    "\n",
    "You can customize the appearance of the legend in a Bokeh plot using the legend attribute of the figure object."
   ]
  },
  {
   "cell_type": "code",
   "execution_count": 9,
   "id": "13274a51",
   "metadata": {},
   "outputs": [],
   "source": [
    "from bokeh.plotting import figure, output_file, show\n",
    "\n",
    "# Create some sample data\n",
    "x = [1, 2, 3, 4, 5]\n",
    "y = [6, 7, 2, 4, 5]\n",
    "\n",
    "# Create a Bokeh figure object\n",
    "p = figure(title=\"Example Bokeh Plot\", x_axis_label='x', y_axis_label='y')\n",
    "\n",
    "# Add a line glyph to the figure\n",
    "p.line(x, y, legend_label=\"Line\", line_width=2)\n",
    "# Add a circle glyph to the figure\n",
    "p.circle(x, y, legend_label=\"Circle\", size=10, fill_color=\"white\", line_color=\"black\")\n",
    "\n",
    "# Customize the legend\n",
    "p.legend.location = \"top_left\"\n",
    "p.legend.label_text_color = \"red\"\n",
    "p.legend.label_text_font_size = \"12pt\"\n",
    "p.legend.background_fill_alpha = 0.5\n",
    "\n",
    "# Specify the output file\n",
    "output_file(\"bokeh_legend.html\")\n",
    "\n",
    "# Display the plot\n",
    "show(p)"
   ]
  },
  {
   "cell_type": "markdown",
   "id": "ecce93e2",
   "metadata": {},
   "source": [
    "### Q4. What is a Bokeh server, and how can you use it to create interactive plots that can be updated in real time?"
   ]
  },
  {
   "cell_type": "markdown",
   "id": "c732026c",
   "metadata": {},
   "source": [
    "A Bokeh server is a way to create interactive plots that can be updated in real time. When you create a Bokeh server, you define a function or a class that generates a Bokeh plot, and then run the server using the Bokeh server command. The resulting plot is displayed in a web browser, and can be interacted with using widgets, sliders, or other input controls.\n",
    "\n",
    "To use the Bokeh server to create interactive plots that can be updated in real time, you typically follow these steps:\n",
    "\n",
    "* Define a function or a class that generates a Bokeh plot.\n",
    "* Create the Bokeh server application by calling the curdoc() function.\n",
    "* Define the layout of the Bokeh plot using the layout method of the curdoc() object.\n",
    "* Define any widgets or input controls that will be used to update the plot.\n",
    "* Define a callback function that will be called when the widgets or input controls are changed.\n",
    "* Register the callback function with the widgets or input controls.\n",
    "* Run the Bokeh server using the Bokeh server command."
   ]
  },
  {
   "cell_type": "code",
   "execution_count": 10,
   "id": "f8029c70",
   "metadata": {},
   "outputs": [],
   "source": [
    "from bokeh.plotting import figure\n",
    "from bokeh.layouts import column\n",
    "from bokeh.models import Slider\n",
    "from bokeh.io import curdoc\n",
    "\n",
    "# Create a function that generates a Bokeh plot\n",
    "def create_plot(x, y):\n",
    "    p = figure(title='Bokeh Server Plot', x_axis_label='x', y_axis_label='y')\n",
    "    p.line(x, y, legend_label='Line', line_width=2)\n",
    "    return p\n",
    "\n",
    "# Define the Bokeh server application\n",
    "curdoc().title = 'Bokeh Server App'\n",
    "x = [1, 2, 3, 4, 5]\n",
    "y = [6, 7, 2, 4, 5]\n",
    "plot = create_plot(x, y)\n",
    "slider = Slider(start=1, end=10, value=1, step=1, title='Multiplier')\n",
    "\n",
    "# Define the layout of the Bokeh plot and widgets\n",
    "layout = column(plot, slider)\n",
    "\n",
    "# Define a callback function that updates the plot when the slider is changed\n",
    "def update_plot(attrname, old, new):\n",
    "    updated_y = [val * slider.value for val in y]\n",
    "    plot.line(x, updated_y, legend_label='Line', line_width=2)\n",
    "\n",
    "# Register the callback function with the slider\n",
    "slider.on_change('value', update_plot)\n",
    "\n",
    "# Run the Bokeh server\n",
    "curdoc().add_root(layout)"
   ]
  },
  {
   "cell_type": "markdown",
   "id": "5341ab7b",
   "metadata": {},
   "source": [
    "### Q5. How can you embed a Bokeh plot into a web page or dashboard using Flask or Django?"
   ]
  },
  {
   "cell_type": "markdown",
   "id": "2aea6053",
   "metadata": {},
   "source": [
    "To embed a Bokeh plot into a web page or dashboard using Flask or Django, you can follow these general steps:\n",
    "\n",
    "* Create a Bokeh plot using the Bokeh library.\n",
    "* Use the json_item method of the plot object to convert it to a JSON string that can be embedded into an HTML page.\n",
    "* Create a Flask or Django view that returns an HTML page containing the JSON string.\n",
    "* Create a Flask or Django template that includes a placeholder for the Bokeh plot.\n",
    "* Embed the Bokeh plot into the template by rendering the JSON string inside a script tag."
   ]
  },
  {
   "cell_type": "code",
   "execution_count": null,
   "id": "79cb777d",
   "metadata": {},
   "outputs": [],
   "source": [
    "from flask import Flask, render_template\n",
    "from bokeh.embed import json_item\n",
    "from bokeh.plotting import figure\n",
    "import json\n",
    "\n",
    "app = Flask(__name__)\n",
    "\n",
    "@app.route('/')\n",
    "def index():\n",
    "    # Create a Bokeh plot\n",
    "    plot = figure()\n",
    "    plot.circle([1,2,3], [4,5,6])\n",
    "\n",
    "    # Convert the plot to a JSON string\n",
    "    plot_json = json.dumps(json_item(plot, \"myplot\"))\n",
    "\n",
    "    # Render the template and embed the plot\n",
    "    return render_template('index.html', plot_json=plot_json)\n",
    "\n",
    "if __name__ == '__main__':\n",
    "    app.run(debug=True)"
   ]
  },
  {
   "cell_type": "code",
   "execution_count": null,
   "id": "525666b6",
   "metadata": {},
   "outputs": [],
   "source": [
    "<!DOCTYPE html>\n",
    "<html lang=\"en\">\n",
    "<head>\n",
    "    <meta charset=\"UTF-8\">\n",
    "    <title>Bokeh Plot Embedding</title>\n",
    "    {{ script | safe }}\n",
    "</head>\n",
    "<body>\n",
    "    <div id=\"myplot\"></div>\n",
    "    <script>\n",
    "        var plot = Bokeh.embed.embed_item({{ plot_json|safe }}, \"myplot\");\n",
    "    </script>\n",
    "</body>\n",
    "</html>"
   ]
  }
 ],
 "metadata": {
  "kernelspec": {
   "display_name": "Python 3 (ipykernel)",
   "language": "python",
   "name": "python3"
  },
  "language_info": {
   "codemirror_mode": {
    "name": "ipython",
    "version": 3
   },
   "file_extension": ".py",
   "mimetype": "text/x-python",
   "name": "python",
   "nbconvert_exporter": "python",
   "pygments_lexer": "ipython3",
   "version": "3.9.12"
  }
 },
 "nbformat": 4,
 "nbformat_minor": 5
}
